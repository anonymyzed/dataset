{
 "cells": [
  {
   "cell_type": "code",
   "execution_count": null,
   "metadata": {},
   "outputs": [],
   "source": [
    "pip install tweepy\n",
    "pip install facebook-sdk"
   ]
  },
  {
   "cell_type": "code",
   "execution_count": null,
   "metadata": {},
   "outputs": [],
   "source": [
    "import tweepy\n",
    "import facebook\n",
    "import csv\n",
    "from datetime import datetime, timedelta\n"
   ]
  },
  {
   "cell_type": "code",
   "execution_count": null,
   "metadata": {},
   "outputs": [],
   "source": [
    "\n",
    "\n",
    "twitter_consumer_key = \"TWITTER_CONSUMER_KEY\"\n",
    "twitter_consumer_secret = \"TWITTER_CONSUMER_SECRET\"\n",
    "twitter_access_token = \"TWITTER_ACCESS_TOKEN\"\n",
    "twitter_access_token_secret = \"TWITTER_ACCESS_TOKEN_SECRET\"\n",
    "\n",
    "\n",
    "facebook_app_id = 'FACEBOOK_APP_ID'\n",
    "facebook_app_secret = 'FACEBOOK_APP_SECRET'\n",
    "facebook_access_token = 'FACEBOOK_ACCESS_TOKEN'\n",
    "\n",
    "\n",
    "auth = tweepy.OAuthHandler(twitter_consumer_key, twitter_consumer_secret)\n",
    "auth.set_access_token(twitter_access_token, twitter_access_token_secret)\n",
    "twitter_api = tweepy.API(auth)\n",
    "\n",
    "\n",
    "facebook_graph = facebook.GraphAPI(facebook_access_token, version=\"3.0\")\n"
   ]
  },
  {
   "cell_type": "code",
   "execution_count": null,
   "metadata": {},
   "outputs": [],
   "source": [
    "\n",
    "today_date = (datetime.utcnow() - timedelta(hours=7)).strftime(\"%Y-%m-%d\") \n",
    "\n",
    "with open('gti_post.csv', mode='w', newline='') as csv_file:\n",
    "    fieldnames = ['GTI', 'Post']\n",
    "    writer = csv.DictWriter(csv_file, fieldnames=fieldnames)\n",
    "    \n",
    "\n",
    "    writer.writeheader()\n",
    "\n",
    "  \n",
    "    def extract_geotagged_tweets(query, count=10):\n",
    "        tweets = tweepy.Cursor(twitter_api.search_tweets, q=query, count=count, geocode=\"\").items(count)\n",
    "        for tweet in tweets:\n",
    "            if tweet.place:\n",
    "                writer.writerow({'GTI': tweet.place.full_name, 'Post': tweet.text})\n",
    "\n",
    "\n",
    "    def extract_geotagged_facebook_posts():\n",
    "        try:\n",
    "            posts = facebook_graph.get_object('me?fields=posts{message,place}')\n",
    "\n",
    "            for post in posts['posts']['data']:\n",
    "                if 'place' in post:\n",
    "                    writer.writerow({'GTI': post['place']['name'], 'Post': post['message']})\n",
    "\n",
    "        except facebook.GraphAPIError as e:\n",
    "            print(f\"Facebook Error: {e}\")\n",
    "\n",
    " \n",
    "    extract_geotagged_tweets(\"travel\", count=5)  \n",
    "\n",
    "\n",
    "    extract_geotagged_facebook_posts()\n"
   ]
  },
  {
   "cell_type": "code",
   "execution_count": null,
   "metadata": {},
   "outputs": [],
   "source": []
  },
  {
   "cell_type": "code",
   "execution_count": null,
   "metadata": {},
   "outputs": [],
   "source": []
  },
  {
   "cell_type": "code",
   "execution_count": null,
   "metadata": {},
   "outputs": [],
   "source": []
  },
  {
   "cell_type": "code",
   "execution_count": null,
   "metadata": {},
   "outputs": [],
   "source": []
  }
 ],
 "metadata": {
  "kernelspec": {
   "display_name": "Python 3",
   "language": "python",
   "name": "python3"
  },
  "language_info": {
   "codemirror_mode": {
    "name": "ipython",
    "version": 3
   },
   "file_extension": ".py",
   "mimetype": "text/x-python",
   "name": "python",
   "nbconvert_exporter": "python",
   "pygments_lexer": "ipython3",
   "version": "3.7.6"
  }
 },
 "nbformat": 4,
 "nbformat_minor": 4
}
